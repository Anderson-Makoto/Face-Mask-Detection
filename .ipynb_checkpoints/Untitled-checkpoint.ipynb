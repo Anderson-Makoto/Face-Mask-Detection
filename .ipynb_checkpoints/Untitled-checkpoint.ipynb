{
 "cells": [
  {
   "cell_type": "markdown",
   "id": "d9a740a6",
   "metadata": {},
   "source": [
    "# Face Mask Recognition\n",
    "recognize, between different images of people, with ones are using a mask properly, not using a mask, or using wrongly."
   ]
  },
  {
   "cell_type": "markdown",
   "id": "f8b571c8",
   "metadata": {},
   "source": [
    "## Importing dependencies"
   ]
  },
  {
   "cell_type": "code",
   "execution_count": 1,
   "id": "8d793ec3",
   "metadata": {},
   "outputs": [],
   "source": [
    "from tensorflow.keras.layers import Conv2D, Dense, Dropout, BatchNormalization, Activation, Flatten, experimental, MaxPooling2D\n",
    "from tensorflow.keras import Sequential, models, applications, preprocessing, optimizers\n",
    "from tensorflow import data, concat, argmax\n",
    "import pandas as pd\n",
    "import cv2\n",
    "import xml.etree.ElementTree as ET\n",
    "import os, os.path\n",
    "import seaborn as sns\n",
    "from sklearn.metrics import classification_report\n",
    "import matplotlib.pyplot as plt\n",
    "from sklearn.utils import class_weight\n",
    "import numpy as np"
   ]
  },
  {
   "cell_type": "markdown",
   "id": "bd469447",
   "metadata": {},
   "source": [
    "## Load images\n",
    "Load images and, as the tensorflow can recongnize the label by the folder of the image, we need to save the images in the correct folders/labels."
   ]
  },
  {
   "cell_type": "code",
   "execution_count": 2,
   "id": "7cd6f800",
   "metadata": {},
   "outputs": [
    {
     "data": {
      "text/plain": [
       "<AxesSubplot:xlabel='labels', ylabel='Count'>"
      ]
     },
     "execution_count": 2,
     "metadata": {},
     "output_type": "execute_result"
    },
    {
     "data": {
      "image/png": "[encoded data removed]",
      "text/plain": [
       "<Figure size 432x288 with 1 Axes>"
      ]
     },
     "metadata": {
      "needs_background": "light"
     },
     "output_type": "display_data"
    }
   ],
   "source": [
    "path, dirs, files = next(os.walk(\"./annotations\"))\n",
    "all_labels = []\n",
    "\n",
    "for file in files:\n",
    "    tree = ET.parse(\"./annotations/\" + file)\n",
    "    root = tree.getroot()\n",
    "    filename = file[: -4]\n",
    "    img = cv2.imread(\"./images/\" + filename + \".png\")\n",
    "    for child in root:\n",
    "        if (child.tag == \"object\"):\n",
    "            label = child.find(\"name\").text\n",
    "            coordinates = child.find(\"bndbox\")\n",
    "            xmin = coordinates.find(\"xmin\").text\n",
    "            xmax = coordinates.find(\"xmax\").text\n",
    "            ymin = coordinates.find(\"ymin\").text\n",
    "            ymax = coordinates.find(\"ymax\").text\n",
    "            \n",
    "            if (int(xmax) - int(xmin) >= 30 and int(ymax) - int(ymin) >= 30):\n",
    "                all_labels.append(label)\n",
    "                _, _, label_files = next(os.walk(\"./images_divided/\" + label))\n",
    "                \n",
    "                crop_img = img[int(ymin): int(ymax), int(xmin): int(xmax)]\n",
    "                cv2.imwrite(\"./images_divided/\" + label + \"/\" + str(len(label_files)) + \".png\", crop_img)            \n",
    "\n",
    "df_qtd = pd.DataFrame(all_labels, columns = [\"labels\"])\n",
    "sns.histplot(data = df_qtd, x = \"labels\")"
   ]
  },
  {
   "cell_type": "markdown",
   "id": "3338dfd5",
   "metadata": {},
   "source": [
    "## Defining Model"
   ]
  },
  {
   "cell_type": "code",
   "execution_count": 3,
   "id": "ea001636",
   "metadata": {},
   "outputs": [
    {
     "name": "stdout",
     "output_type": "stream",
     "text": [
      "Model: \"sequential\"\n",
      "_________________________________________________________________\n",
      "Layer (type)                 Output Shape              Param #   \n",
      "=================================================================\n",
      "rescaling (Rescaling)        (None, 64, 64, 1)         0         \n",
      "_________________________________________________________________\n",
      "vgg16 (Functional)           (None, 2, 2, 512)         14713536  \n",
      "_________________________________________________________________\n",
      "flatten (Flatten)            (None, 2048)              0         \n",
      "_________________________________________________________________\n",
      "dense (Dense)                (None, 128)               262272    \n",
      "_________________________________________________________________\n",
      "activation (Activation)      (None, 128)               0         \n",
      "_________________________________________________________________\n",
      "dense_1 (Dense)              (None, 3)                 387       \n",
      "_________________________________________________________________\n",
      "activation_1 (Activation)    (None, 3)                 0         \n",
      "=================================================================\n",
      "Total params: 14,976,195\n",
      "Trainable params: 262,659\n",
      "Non-trainable params: 14,713,536\n",
      "_________________________________________________________________\n"
     ]
    }
   ],
   "source": [
    "head_layers = applications.VGG16(input_shape = (64, 64, 1), weights = None, include_top = False)\n",
    "head_layers.trainable = False\n",
    "\n",
    "adam = optimizers.Adam(learning_rate = 0.0001)\n",
    "\n",
    "model = Sequential([\n",
    "    experimental.preprocessing.Rescaling(1./255, input_shape=(64, 64, 1)),\n",
    "    head_layers,\n",
    "#     Conv2D(filters = 16, kernel_size = 3),\n",
    "#     Activation(\"relu\"),\n",
    "#     MaxPooling2D(),\n",
    "#     Conv2D(filters = 32, kernel_size = 3),\n",
    "#     Activation(\"relu\"),\n",
    "#     MaxPooling2D(),\n",
    "#     Conv2D(filters = 64, kernel_size = 3),\n",
    "#     Activation(\"relu\"),\n",
    "#     MaxPooling2D(),\n",
    "    Flatten(),\n",
    "    Dense(128),\n",
    "    Activation(\"relu\"),\n",
    "    Dense(3),\n",
    "    Activation(\"sigmoid\")\n",
    "])\n",
    "\n",
    "model.summary()\n",
    "\n",
    "model.compile(\n",
    "    optimizer = adam,\n",
    "    loss = \"sparse_categorical_crossentropy\",\n",
    "    metrics = [\"accuracy\"]\n",
    ")\n",
    "\n"
   ]
  },
  {
   "cell_type": "markdown",
   "id": "c67cd1bd",
   "metadata": {},
   "source": [
    "## Loading datasets and split in train and test"
   ]
  },
  {
   "cell_type": "code",
   "execution_count": 4,
   "id": "bc72bca0",
   "metadata": {},
   "outputs": [
    {
     "name": "stdout",
     "output_type": "stream",
     "text": [
      "Found 1307 files belonging to 3 classes.\n",
      "Using 915 files for training.\n",
      "Found 1307 files belonging to 3 classes.\n",
      "Using 392 files for validation.\n",
      "['mask_weared_incorrect', 'with_mask', 'without_mask'] ['mask_weared_incorrect', 'with_mask', 'without_mask']\n"
     ]
    }
   ],
   "source": [
    "train_ds = preprocessing.image_dataset_from_directory(\n",
    "    \"./images_divided\",\n",
    "    validation_split=0.3,\n",
    "    subset=\"training\",\n",
    "    seed=100,\n",
    "    color_mode = \"grayscale\",\n",
    "    image_size=(64, 64),\n",
    "    batch_size = 64\n",
    ")\n",
    "\n",
    "val_ds = preprocessing.image_dataset_from_directory(\n",
    "    \"./images_divided\",\n",
    "    validation_split=0.3,\n",
    "    subset=\"validation\",\n",
    "    seed=100,\n",
    "    color_mode = \"grayscale\",\n",
    "    image_size=(64, 64),\n",
    "    batch_size = 64\n",
    ")\n",
    "\n",
    "print(train_ds.class_names, val_ds.class_names)\n",
    "\n",
    "train_ds = train_ds.cache().prefetch(buffer_size = data.experimental.AUTOTUNE)\n",
    "val_ds = val_ds.cache().prefetch(buffer_size = data.experimental.AUTOTUNE)"
   ]
  },
  {
   "cell_type": "code",
   "execution_count": 5,
   "id": "d8379420",
   "metadata": {},
   "outputs": [
    {
     "data": {
      "text/plain": [
       "{1: 2.406998158379374, 2: 15.939024390243903, 0: 45.859649122807014}"
      ]
     },
     "execution_count": 5,
     "metadata": {},
     "output_type": "execute_result"
    },
    {
     "data": {
      "image/png": "[encoded data removed]",
      "text/plain": [
       "<Figure size 1152x576 with 2 Axes>"
      ]
     },
     "metadata": {
      "needs_background": "light"
     },
     "output_type": "display_data"
    }
   ],
   "source": [
    "train_dis = []\n",
    "val_dis = []\n",
    "\n",
    "for entry in train_ds:\n",
    "    for val in entry[1]:\n",
    "        train_dis.append(int(val))\n",
    "\n",
    "for entry in val_ds:\n",
    "    for val in entry[1]:\n",
    "        val_dis.append(int(val))\n",
    "        \n",
    "\n",
    "fig, axes = plt.subplots(1, 2, figsize=(16, 8), sharey=True)\n",
    "fig.suptitle(\"Train and test distributions\")\n",
    "\n",
    "sns.histplot(ax = axes[0], data = train_dis)\n",
    "axes[0].set_title(\"Train Distribution\")\n",
    "\n",
    "sns.histplot(ax = axes[1], data = val_dis)\n",
    "axes[1].set_title(\"Validation Distribution\")\n",
    "\n",
    "labels_total = df_qtd[\"labels\"].value_counts()\n",
    "\n",
    "total = df_qtd[\"labels\"].count()\n",
    "\n",
    "classes_weights = {\n",
    "    1: 2 / (labels_total[\"with_mask\"] / total),\n",
    "    2: 2 / (labels_total[\"without_mask\"] / total),\n",
    "    0: 2 / (labels_total[\"mask_weared_incorrect\"] / total)\n",
    "}\n",
    "\n",
    "classes_weights"
   ]
  },
  {
   "cell_type": "code",
   "execution_count": 6,
   "id": "15488375",
   "metadata": {},
   "outputs": [
    {
     "name": "stdout",
     "output_type": "stream",
     "text": [
      "Epoch 1/15\n",
      "15/15 [==============================] - 13s 851ms/step - loss: 6.6162 - accuracy: 0.1497 - val_loss: 1.0984 - val_accuracy: 0.1403\n",
      "Epoch 2/15\n",
      "15/15 [==============================] - 13s 840ms/step - loss: 6.6162 - accuracy: 0.1497 - val_loss: 1.0984 - val_accuracy: 0.1403\n",
      "Epoch 3/15\n",
      "15/15 [==============================] - 13s 834ms/step - loss: 6.6162 - accuracy: 0.1497 - val_loss: 1.0984 - val_accuracy: 0.1403\n",
      "Epoch 4/15\n",
      "15/15 [==============================] - 13s 863ms/step - loss: 6.6162 - accuracy: 0.1497 - val_loss: 1.0984 - val_accuracy: 0.1403\n",
      "Epoch 5/15\n",
      "15/15 [==============================] - 13s 883ms/step - loss: 6.6162 - accuracy: 0.1519 - val_loss: 1.0984 - val_accuracy: 0.1403\n",
      "Epoch 6/15\n",
      "15/15 [==============================] - 13s 853ms/step - loss: 6.6161 - accuracy: 0.1508 - val_loss: 1.0984 - val_accuracy: 0.1429\n",
      "Epoch 7/15\n",
      "15/15 [==============================] - 13s 852ms/step - loss: 6.6161 - accuracy: 0.1508 - val_loss: 1.0984 - val_accuracy: 0.1429\n",
      "Epoch 8/15\n",
      "15/15 [==============================] - 13s 858ms/step - loss: 6.6161 - accuracy: 0.1497 - val_loss: 1.0984 - val_accuracy: 0.1429\n",
      "Epoch 9/15\n",
      "15/15 [==============================] - 13s 857ms/step - loss: 6.6161 - accuracy: 0.1486 - val_loss: 1.0984 - val_accuracy: 0.1378\n",
      "Epoch 10/15\n",
      "15/15 [==============================] - 13s 848ms/step - loss: 6.6161 - accuracy: 0.1486 - val_loss: 1.0984 - val_accuracy: 0.1378\n",
      "Epoch 11/15\n",
      "15/15 [==============================] - 13s 839ms/step - loss: 6.6161 - accuracy: 0.1497 - val_loss: 1.0984 - val_accuracy: 0.1378\n",
      "Epoch 12/15\n",
      "15/15 [==============================] - 13s 857ms/step - loss: 6.6161 - accuracy: 0.1508 - val_loss: 1.0984 - val_accuracy: 0.1378\n",
      "Epoch 13/15\n",
      "15/15 [==============================] - 13s 870ms/step - loss: 6.6161 - accuracy: 0.1519 - val_loss: 1.0984 - val_accuracy: 0.1378\n",
      "Epoch 14/15\n",
      "15/15 [==============================] - 13s 850ms/step - loss: 6.6161 - accuracy: 0.1508 - val_loss: 1.0984 - val_accuracy: 0.1378\n",
      "Epoch 15/15\n",
      "15/15 [==============================] - 13s 854ms/step - loss: 6.6161 - accuracy: 0.1541 - val_loss: 1.0984 - val_accuracy: 0.1378\n",
      "                       precision    recall  f1-score   support\n",
      "\n",
      "mask_weared_incorrect       0.00      0.00      0.00        17\n",
      "            with_mask       0.62      0.05      0.09       327\n",
      "         without_mask       0.10      0.79      0.18        48\n",
      "\n",
      "             accuracy                           0.14       392\n",
      "            macro avg       0.24      0.28      0.09       392\n",
      "         weighted avg       0.53      0.14      0.10       392\n",
      "\n"
     ]
    },
    {
     "name": "stderr",
     "output_type": "stream",
     "text": [
      "D:\\anaconda3\\lib\\site-packages\\sklearn\\metrics\\_classification.py:1245: UndefinedMetricWarning: Precision and F-score are ill-defined and being set to 0.0 in labels with no predicted samples. Use `zero_division` parameter to control this behavior.\n",
      "  _warn_prf(average, modifier, msg_start, len(result))\n",
      "D:\\anaconda3\\lib\\site-packages\\sklearn\\metrics\\_classification.py:1245: UndefinedMetricWarning: Precision and F-score are ill-defined and being set to 0.0 in labels with no predicted samples. Use `zero_division` parameter to control this behavior.\n",
      "  _warn_prf(average, modifier, msg_start, len(result))\n",
      "D:\\anaconda3\\lib\\site-packages\\sklearn\\metrics\\_classification.py:1245: UndefinedMetricWarning: Precision and F-score are ill-defined and being set to 0.0 in labels with no predicted samples. Use `zero_division` parameter to control this behavior.\n",
      "  _warn_prf(average, modifier, msg_start, len(result))\n"
     ]
    }
   ],
   "source": [
    "history = model.fit(\n",
    "    train_ds,\n",
    "    validation_data = val_ds,\n",
    "    epochs = 15,\n",
    "    class_weight = classes_weights\n",
    ")\n",
    "\n",
    "y_val = concat([y for x, y in val_ds], axis=0)\n",
    "\n",
    "y_pred = model.predict(val_ds)\n",
    "\n",
    "y_pred = argmax(y_pred, axis=1)\n",
    "\n",
    "cr = classification_report(y_val, y_pred, target_names = [\"mask_weared_incorrect\", \"with_mask\", \"without_mask\"])\n",
    "\n",
    "print(cr)"
   ]
  },
  {
   "cell_type": "code",
   "execution_count": 7,
   "id": "e9fdab21",
   "metadata": {},
   "outputs": [
    {
     "data": {
      "image/png": "[encoded data removed]",
      "text/plain": [
       "<Figure size 1152x576 with 2 Axes>"
      ]
     },
     "metadata": {
      "needs_background": "light"
     },
     "output_type": "display_data"
    }
   ],
   "source": [
    "acc = history.history['accuracy']\n",
    "val_acc = history.history['val_accuracy']\n",
    "\n",
    "loss = history.history['loss']\n",
    "val_loss = history.history['val_loss']\n",
    "\n",
    "epochs_range = range(15)\n",
    "\n",
    "\n",
    "plt.figure(figsize=(16, 8))\n",
    "plt.subplot(1, 2, 1)\n",
    "plt.plot(epochs_range, acc, label='Training Accuracy')\n",
    "plt.plot(epochs_range, val_acc, label='Validation Accuracy')\n",
    "plt.legend(loc='lower right')\n",
    "plt.title('Training and Validation Accuracy')\n",
    "\n",
    "plt.subplot(1, 2, 2)\n",
    "plt.plot(epochs_range, loss, label='Training Loss')\n",
    "plt.plot(epochs_range, val_loss, label='Validation Loss')\n",
    "plt.legend(loc='upper right')\n",
    "plt.title('Training and Validation Loss')\n",
    "plt.show()"
   ]
  }
 ],
 "metadata": {
  "kernelspec": {
   "display_name": "Python 3",
   "language": "python",
   "name": "python3"
  },
  "language_info": {
   "codemirror_mode": {
    "name": "ipython",
    "version": 3
   },
   "file_extension": ".py",
   "mimetype": "text/x-python",
   "name": "python",
   "nbconvert_exporter": "python",
   "pygments_lexer": "ipython3",
   "version": "3.8.8"
  }
 },
 "nbformat": 4,
 "nbformat_minor": 5
}
